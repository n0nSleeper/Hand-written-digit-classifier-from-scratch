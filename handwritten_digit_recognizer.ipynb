{
 "cells": [
  {
   "cell_type": "code",
   "execution_count": 41,
   "metadata": {},
   "outputs": [],
   "source": [
    "import numpy as np\n",
    "import pandas as pd\n",
    "from sklearn.model_selection import train_test_split\n",
    "import matplotlib.pyplot as plt \n",
    "from keras.utils import to_categorical"
   ]
  },
  {
   "cell_type": "code",
   "execution_count": 42,
   "metadata": {},
   "outputs": [],
   "source": [
    "df = pd.read_csv(\"train.csv\")\n",
    "df = np.array(df)\n",
    "y = np.array(df[:, 0])\n",
    "X = np.array(df[:, 1:])\n",
    "X = X/255.\n",
    "\n",
    "X_train, X_test, y_train, y_test = train_test_split(X, y, test_size= 0.2, random_state= 13778)\n"
   ]
  },
  {
   "cell_type": "code",
   "execution_count": 43,
   "metadata": {},
   "outputs": [],
   "source": [
    "#helper functions\n",
    "\n",
    "def ReLU(X):\n",
    "    return np.maximum(0, X)\n",
    "\n",
    "def Softmax(V): \n",
    "    e_V = np.exp(V - np.max(V, axis = 0, keepdims = True))\n",
    "    Z = e_V / e_V.sum(axis = 0)\n",
    "    return Z\n",
    "\n",
    "def unison_shuffle(X, Y): \n",
    "    l = len(X) \n",
    "    idx_perm = np.random.permutation(l) \n",
    "    X_p = X[idx_perm] \n",
    "    Y_p = Y[idx_perm]\n",
    "    return X_p, Y_p \n",
    "\n",
    "def ReLU_derivative(X):\n",
    "    return X > 0\n",
    "\n",
    "def onehot_encode(y):\n",
    "    #convert vector y with size (n_samples x 1) into matrix Y with size (10 x n_samples)\n",
    "    Y = np.zeros((y.max()+1, y.size))\n",
    "    Y[y, np.arange(y.size)] = 1\n",
    "    return Y\n",
    "\n",
    "def onehot_encode1(Y):\n",
    "    return to_categorical(Y, 10).T\n",
    "\n",
    "def onehot_decode(Y):\n",
    "    y = np.argmax(Y, axis=0)\n",
    "    return y \n",
    "\n",
    "def get_accuracy(predictions, y):\n",
    "    return np.sum(predictions == y) / len(y)\n",
    "\n",
    "def CrossEntropyLoss(Y_hat, Y):\n",
    "    e = 0.001\n",
    "    n_samples = Y.shape[1]\n",
    "    logY = np.log(Y_hat+e) \n",
    "    cost = -np.sum(np.multiply(Y,logY))\n",
    "    return 1/n_samples*cost \n",
    "\n",
    "def CrossEntropyLoss1(Y_hat, Y):\n",
    "    e = 0.0001\n",
    "    n_samples = len(Y)\n",
    "    logY = np.log(Y_hat+e) \n",
    "    cost = -np.sum(np.multiply(Y,logY))\n",
    "    return 1/n_samples*cost \n",
    "\n",
    "def batch_normalize(A):\n",
    "    e = 0.001\n",
    "    ss = A.shape[0]\n",
    "    M = 1/ss * np.sum(A, axis = 0)\n",
    "    V = 1/(ss-1) * np.sum(np.square(A-M),axis = 0)\n",
    "\n",
    "    nA = (A-M)/np.sqrt(V+e)\n",
    "    return nA"
   ]
  },
  {
   "cell_type": "code",
   "execution_count": 44,
   "metadata": {},
   "outputs": [],
   "source": [
    "def init_params():\n",
    "    W0 = np.random.random((11, 784))\n",
    "    b0 = np.random.random((11, 1))\n",
    "\n",
    "    W1 = np.random.random((11, 11))\n",
    "    b1 = np.random.random((11, 1))\n",
    "\n",
    "    W2 = np.random.random((10, 11))\n",
    "    b2 = np.random.random((10, 1))\n",
    "\n",
    "    return W0, b0, W1, b1, W2, b2\n",
    "\n",
    "def init_params1():\n",
    "    W0 = np.random.rand(11, 784) - 0.5\n",
    "    b0 = np.random.rand(11, 1) - 0.5\n",
    "    W1 = np.random.rand(11, 11) - 0.5\n",
    "    b1 = np.random.rand(11, 1) - 0.5\n",
    "    W2 = np.random.rand(10, 11) - 0.5\n",
    "    b2 = np.random.rand(10, 1) - 0.5\n",
    "    return W0, b0, W1, b1, W2, b2\n",
    "\n",
    "def forward_propagate(W0, b0, W1, b1, W2, b2, X):\n",
    "    Z0 = np.dot(W0, X.T) + b0\n",
    "    A0 = ReLU(Z0)\n",
    "\n",
    "    Z1 = np.dot(W1, A0)  + b1 \n",
    "    A1 = ReLU(Z1)\n",
    "\n",
    "    Z2 = np.dot(W2, A1)  + b2 \n",
    "    A2 = Softmax(Z2)\n",
    "\n",
    "    return Z0, Z1, Z2, A0, A1, A2 \n",
    "\n",
    "def forward_propagate1(W0, b0, W1, b1, W2, b2, X):\n",
    "\n",
    "    Z0 = np.dot(W0, X.T) + b0\n",
    "    A0 = ReLU(Z0)\n",
    "    \n",
    "    A0 = batch_normalize(A0)\n",
    "    Z1 = np.dot(W1, A0)  + b1 \n",
    "    A1 = ReLU(Z1)\n",
    "    \n",
    "    A1 = batch_normalize(A1)\n",
    "    Z2 = np.dot(W2, A1)  + b2 \n",
    "    A2 = Softmax(Z2)\n",
    "\n",
    "    return Z0, Z1, Z2, A0, A1, A2 \n",
    "\n",
    "\n",
    "\n",
    "\n",
    "def backward_propagate(Z0, A0, W0, Z1, A1, W1, Z2, A2, W2, X, y):\n",
    "    m = y.size\n",
    "    Y = onehot_encode1(y)\n",
    "\n",
    "    dZ2 = A2 - Y \n",
    "    dW2 = 1/m * np.dot(dZ2, A1.T) \n",
    "    db2 = 1/m * np.sum(dZ2, axis= 1, keepdims= 1)\n",
    "\n",
    "    dZ1 = np.dot(W2.T, dZ2) * ReLU_derivative(Z1)\n",
    "    dW1 = 1/m * np.dot(dZ1, A0.T) \n",
    "    db1 = 1/m * np.sum(dZ1, axis= 1, keepdims= 1)\n",
    "\n",
    "    dZ0 = np.dot(W1.T, dZ1) * ReLU_derivative(Z0)\n",
    "    dW0 = 1/m * np.dot(dZ0, X) \n",
    "    db0 = 1/m * np.sum(dZ0, axis= 1, keepdims= 1)\n",
    "\n",
    "    return dW0, db0, dW1, db1, dW2, db2 \n",
    "                       "
   ]
  },
  {
   "cell_type": "code",
   "execution_count": 45,
   "metadata": {},
   "outputs": [],
   "source": [
    "def gradient_descent(X, y, learning_rate, iterations):\n",
    "    W0, b0, W1, b1, W2, b2 = init_params1()\n",
    "\n",
    "    for i in range(iterations+1):\n",
    "\n",
    "        Z0, Z1, Z2, A0, A1, A2 = forward_propagate(W0, b0, W1, b1, W2, b2, X)\n",
    "\n",
    "        dW0, db0, dW1, db1, dW2, db2 = backward_propagate(Z0, A0, W0, Z1, A1, W1, Z2, A2, W2, X, y)\n",
    "\n",
    "        W0 -= learning_rate*dW0 \n",
    "        b0 -= learning_rate*db0\n",
    "        W1 -= learning_rate*dW1 \n",
    "        b1 -= learning_rate*db1\n",
    "        W2 -= learning_rate*dW2 \n",
    "        b2 -= learning_rate*db2\n",
    "\n",
    "        if (i % 10 == 0):\n",
    "            print(f\"Iteration: {i}\")\n",
    "            predictions = onehot_decode(A2)\n",
    "            print(f\"Accuracy: {get_accuracy(predictions, y)}\")\n",
    "\n",
    "    return W0, b0, W1, b1, W2, b2 \n",
    "\n",
    "\n",
    "def adam(X, y, alpha, beta1, beta2, batch_size, epochs):\n",
    "\n",
    "    W0, b0, W1, b1, W2, b2 = init_params1()\n",
    "    epsilon = 0.00001\n",
    "    batchs = X.shape[0] // batch_size\n",
    "\n",
    "    v_w2 = np.zeros_like(W2)\n",
    "    v_b2 = np.zeros_like(b2)\n",
    "    v_w1 = np.zeros_like(W1)\n",
    "    v_b1 = np.zeros_like(b1)\n",
    "    v_w0 = np.zeros_like(W0)\n",
    "    v_b0 = np.zeros_like(b0)\n",
    "\n",
    "    E_w2 = np.zeros_like(W2)\n",
    "    E_b2 = np.zeros_like(b2)\n",
    "    E_w1 = np.zeros_like(W1)\n",
    "    E_b1 = np.zeros_like(b1)\n",
    "    E_w0 = np.zeros_like(W0)\n",
    "    E_b0 = np.zeros_like(b0)\n",
    "\n",
    "    epsilonb2 = np.zeros_like(b2) + epsilon\n",
    "    epsilonW2 = np.zeros_like(W2) + epsilon\n",
    "    epsilonW1 = np.zeros_like(W1) + epsilon\n",
    "    epsilonb1 = np.zeros_like(b1) + epsilon\n",
    "    epsilonW0 = np.zeros_like(W0) + epsilon\n",
    "    epsilonb0 = np.zeros_like(b0) + epsilon\n",
    "\n",
    "    \n",
    "    for i in range (epochs+1):\n",
    "        Xs, ys = unison_shuffle(X, y)\n",
    "        \n",
    "        for j in range(batchs):\n",
    "            X_batch = Xs[batch_size*j: (j+1)*batch_size,  :]\n",
    "            y_batch = ys[batch_size*j: (j+1)*batch_size    ]\n",
    "\n",
    "            Z0, Z1, Z2, A0, A1, A2 = forward_propagate1(W0, b0, W1, b1, W2, b2, X_batch)\n",
    "\n",
    "            dW0, db0, dW1, db1, dW2, db2 = backward_propagate(Z0, A0, W0, Z1, A1, W1, Z2, A2, W2, X_batch, y_batch)\n",
    "\n",
    "            v_w2 = beta1*v_w2 - (1-beta1)*dW2 \n",
    "            v_b2 = beta1*v_b2 - (1-beta1)*db2 \n",
    "            v_w1 = beta1*v_w1 - (1-beta1)*dW1 \n",
    "            v_b1 = beta1*v_b1 - (1-beta1)*db1 \n",
    "            v_w0 = beta1*v_w0 - (1-beta1)*dW0 \n",
    "            v_b0 = beta1*v_b0 - (1-beta1)*db0 \n",
    "\n",
    "            E_w2 = beta2*E_w2 + (1-beta2)*dW2*dW2 \n",
    "            E_b2 = beta2*E_b2 + (1-beta2)*db2*db2 \n",
    "            E_w1 = beta2*E_w1 + (1-beta2)*dW1*dW1 \n",
    "            E_b1 = beta2*E_b1 + (1-beta2)*db1*db1 \n",
    "            E_w0 = beta2*E_w0 + (1-beta2)*dW0*dW0 \n",
    "            E_b0 = beta2*E_b0 + (1-beta2)*db0*db0 \n",
    "\n",
    "            W2 += (alpha/np.sqrt(E_w2 + epsilonW2))*v_w2 \n",
    "            b2 += (alpha/np.sqrt(E_b2 + epsilonb2))*v_b2 \n",
    "            W1 += (alpha/np.sqrt(E_w1 + epsilonW1))*v_w1 \n",
    "            b1 += (alpha/np.sqrt(E_b1 + epsilonb1))*v_b1 \n",
    "            W0 += (alpha/np.sqrt(E_w0 + epsilonW0))*v_w0 \n",
    "            b0 += (alpha/np.sqrt(E_b0 + epsilonb0))*v_b0 \n",
    "\n",
    "        if (i % 10 == 0):\n",
    "            print(f\"Epoch: {i}\")\n",
    "            _, _, _, _, _, A2 = forward_propagate1(W0, b0, W1, b1, W2, b2, Xs)\n",
    "            predictions = onehot_decode(A2)\n",
    "            print(f\"Accuracy: {np.round(get_accuracy(predictions, ys), 4)}\")\n",
    "            print(f\"Loss: {np.round(CrossEntropyLoss(onehot_encode(predictions), onehot_encode(ys)), 4)}\")\n",
    "            print(\"--------------------------------------------------\")\n",
    "    \n",
    "    return W0, b0, W1, b1, W2, b2\n",
    "\n",
    "\n"
   ]
  },
  {
   "cell_type": "code",
   "execution_count": 46,
   "metadata": {},
   "outputs": [
    {
     "name": "stdout",
     "output_type": "stream",
     "text": [
      "Epoch: 0\n",
      "Accuracy: 0.8705\n",
      "Loss: 0.8938\n",
      "--------------------------------------------------\n",
      "Epoch: 10\n",
      "Accuracy: 0.9471\n",
      "Loss: 0.3646\n",
      "--------------------------------------------------\n",
      "Epoch: 20\n",
      "Accuracy: 0.9574\n",
      "Loss: 0.2934\n",
      "--------------------------------------------------\n",
      "Epoch: 30\n",
      "Accuracy: 0.961\n",
      "Loss: 0.2682\n",
      "--------------------------------------------------\n",
      "Epoch: 40\n",
      "Accuracy: 0.9608\n",
      "Loss: 0.2698\n",
      "--------------------------------------------------\n",
      "Epoch: 50\n",
      "Accuracy: 0.9656\n",
      "Loss: 0.2369\n",
      "--------------------------------------------------\n",
      "Epoch: 60\n",
      "Accuracy: 0.9665\n",
      "Loss: 0.2303\n",
      "--------------------------------------------------\n",
      "Epoch: 70\n",
      "Accuracy: 0.9682\n",
      "Loss: 0.219\n",
      "--------------------------------------------------\n",
      "Epoch: 80\n",
      "Accuracy: 0.9677\n",
      "Loss: 0.2219\n",
      "--------------------------------------------------\n",
      "Epoch: 90\n",
      "Accuracy: 0.9684\n",
      "Loss: 0.2174\n",
      "--------------------------------------------------\n",
      "Epoch: 100\n",
      "Accuracy: 0.9702\n",
      "Loss: 0.205\n",
      "--------------------------------------------------\n"
     ]
    }
   ],
   "source": [
    "alpha = 0.01\n",
    "epochs = 100\n",
    "batch_size = 128\n",
    "beta1 = 0.9 #momentum\n",
    "beta2 = 0.9 #norm\n",
    "\n",
    "\n",
    "W0a, b0a, W1a, b1a, W2a, b2a = adam(X_train, y_train, alpha, beta1, beta2, batch_size , epochs)"
   ]
  },
  {
   "cell_type": "code",
   "execution_count": 47,
   "metadata": {},
   "outputs": [
    {
     "name": "stdout",
     "output_type": "stream",
     "text": [
      "Accuracy: 0.9314\n"
     ]
    }
   ],
   "source": [
    "_, _, _, _, _, A2 = forward_propagate1(W0a, b0a, W1a, b1a, W2a, b2a, X_test)\n",
    "predictions = onehot_decode(A2)\n",
    "print(f\"Accuracy: {np.round(get_accuracy(predictions, y_test), 4)}\")"
   ]
  },
  {
   "cell_type": "code",
   "execution_count": 51,
   "metadata": {},
   "outputs": [
    {
     "name": "stdout",
     "output_type": "stream",
     "text": [
      "Prediction: [1]\n"
     ]
    },
    {
     "data": {
      "image/png": "[encoded data removed]",
      "text/plain": [
       "<Figure size 640x480 with 1 Axes>"
      ]
     },
     "metadata": {},
     "output_type": "display_data"
    },
    {
     "name": "stdout",
     "output_type": "stream",
     "text": [
      "Prediction: [0]\n"
     ]
    },
    {
     "data": {
      "image/png": "[encoded data removed]",
      "text/plain": [
       "<Figure size 640x480 with 1 Axes>"
      ]
     },
     "metadata": {},
     "output_type": "display_data"
    },
    {
     "name": "stdout",
     "output_type": "stream",
     "text": [
      "Prediction: [1]\n"
     ]
    },
    {
     "data": {
      "image/png": "[encoded data removed]",
      "text/plain": [
       "<Figure size 640x480 with 1 Axes>"
      ]
     },
     "metadata": {},
     "output_type": "display_data"
    },
    {
     "name": "stdout",
     "output_type": "stream",
     "text": [
      "Prediction: [4]\n"
     ]
    },
    {
     "data": {
      "image/png": "[encoded data removed]",
      "text/plain": [
       "<Figure size 640x480 with 1 Axes>"
      ]
     },
     "metadata": {},
     "output_type": "display_data"
    },
    {
     "name": "stdout",
     "output_type": "stream",
     "text": [
      "Prediction: [0]\n"
     ]
    },
    {
     "data": {
      "image/png": "[encoded data removed]",
      "text/plain": [
       "<Figure size 640x480 with 1 Axes>"
      ]
     },
     "metadata": {},
     "output_type": "display_data"
    }
   ],
   "source": [
    "unseen = pd.read_csv(\"test.csv\")\n",
    "unseen = np.array(unseen)\n",
    "def unseen_datas_prediction(sample_index, W0, b0, W1, b1, W2, b2, X):\n",
    "    img = X[sample_index, :, None].reshape((28, 28))\n",
    "    _, _, _, _, _, A2 = forward_propagate1(W0, b0, W1, b1, W2, b2, X[sample_index, :, None].T)\n",
    "    prediction = onehot_decode(A2)\n",
    "    print(f\"Prediction: {prediction}\")\n",
    "    plt.gray()\n",
    "    plt.imshow(img)\n",
    "    plt.show()\n",
    "\n",
    "def predict_unseen(index, W0, b0, W1, b1, W2, b2, X):\n",
    "    for i in range(index, index+5):\n",
    "        unseen_datas_prediction(i, W0, b0, W1, b1, W2, b2, X)\n",
    "\n",
    "predict_unseen(0, W0a, b0a, W1a, b1a, W2a, b2a, X)"
   ]
  },
  {
   "cell_type": "code",
   "execution_count": 52,
   "metadata": {},
   "outputs": [],
   "source": [
    "# np.save(\"W0.npy\", W0a)\n",
    "# np.save(\"W1.npy\", W1a)\n",
    "# np.save(\"W2.npy\", W2a)\n",
    "# np.save(\"b0.npy\", b0a)\n",
    "# np.save(\"b1.npy\", b1a)\n",
    "# np.save(\"b2.npy\", b2a)"
   ]
  }
 ],
 "metadata": {
  "kernelspec": {
   "display_name": "Python 3",
   "language": "python",
   "name": "python3"
  },
  "language_info": {
   "codemirror_mode": {
    "name": "ipython",
    "version": 3
   },
   "file_extension": ".py",
   "mimetype": "text/x-python",
   "name": "python",
   "nbconvert_exporter": "python",
   "pygments_lexer": "ipython3",
   "version": "3.10.13"
  },
  "orig_nbformat": 4
 },
 "nbformat": 4,
 "nbformat_minor": 2
}
