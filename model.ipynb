{
 "cells": [
  {
   "cell_type": "code",
   "execution_count": 1,
   "metadata": {},
   "outputs": [],
   "source": [
    "import numpy as np\n",
    "import pandas as pd"
   ]
  },
  {
   "cell_type": "code",
   "execution_count": 2,
   "metadata": {},
   "outputs": [],
   "source": [
    "W0 = np.load(\"W0.npy\")\n",
    "W1 = np.load(\"W1.npy\")\n",
    "W2 = np.load(\"W2.npy\")\n",
    "b0 = np.load(\"b0.npy\")\n",
    "b1 = np.load(\"b1.npy\")\n",
    "b2 = np.load(\"b2.npy\")"
   ]
  },
  {
   "cell_type": "code",
   "execution_count": 3,
   "metadata": {},
   "outputs": [],
   "source": [
    "W0 = np.load(\"W0.npy\")\n",
    "W1 = np.load(\"W1.npy\")\n",
    "W2 = np.load(\"W2.npy\")\n",
    "b0 = np.load(\"b0.npy\")\n",
    "b1 = np.load(\"b1.npy\")\n",
    "b2 = np.load(\"b2.npy\")\n",
    "\n",
    "df = pd.read_csv(\"train.csv\")\n",
    "df = np.array(df)\n",
    "y = df[:, 0]\n",
    "X = df[:, 1:]\n",
    "X = X/255.\n"
   ]
  },
  {
   "cell_type": "code",
   "execution_count": 4,
   "metadata": {},
   "outputs": [],
   "source": [
    "def ReLU(X):\n",
    "    return np.maximum(0, X)\n",
    "\n",
    "def Softmax(V): \n",
    "    e_V = np.exp(V - np.max(V, axis = 0, keepdims = True))\n",
    "    Z = e_V / e_V.sum(axis = 0)\n",
    "    return Z\n",
    "\n",
    "def ReLU_derivative(X):\n",
    "    return X > 0\n",
    "\n",
    "def onehot_encode(y):\n",
    "    #convert vector y with size R(n_samples x 1) into matrix Y with size (10 x n_samples)\n",
    "    Y = np.zeros((y.max()+1, y.size))\n",
    "    Y[y, np.arange(y.size)] = 1\n",
    "    return Y\n",
    "\n",
    "def onehot_decode(Y):\n",
    "    y = np.argmax(Y, axis=0)\n",
    "    return y \n",
    "\n",
    "def get_accuracy(predictions, y):\n",
    "    return np.sum(predictions == y) / len(y)\n",
    "\n",
    "def CrossEntropy(y_hat, y):\n",
    "    return np.sum(y*np.log(y_hat))"
   ]
  },
  {
   "cell_type": "code",
   "execution_count": 5,
   "metadata": {},
   "outputs": [],
   "source": [
    "def forward_propagate(W0, b0, W1, b1, W2, b2, X):\n",
    "    Z0 = np.dot(W0, X.T) + b0\n",
    "    A0 = ReLU(Z0)\n",
    "\n",
    "    Z1 = np.dot(W1, A0)  + b1 \n",
    "    A1 = ReLU(Z1)\n",
    "\n",
    "    Z2 = np.dot(W2, A1)  + b2 \n",
    "    A2 = Softmax(Z2)\n",
    "    return Z0, Z1, Z2, A0, A1, A2 "
   ]
  },
  {
   "cell_type": "code",
   "execution_count": 6,
   "metadata": {},
   "outputs": [
    {
     "data": {
      "text/plain": [
       "0.9732142857142857"
      ]
     },
     "execution_count": 6,
     "metadata": {},
     "output_type": "execute_result"
    }
   ],
   "source": [
    "Z0, Z1, Z2, A0, A1, A2 = forward_propagate(W0, b0, W1, b1, W2, b2, X)\n",
    "y_hat = onehot_decode(A2)\n",
    "get_accuracy(y_hat, y) "
   ]
  }
 ],
 "metadata": {
  "kernelspec": {
   "display_name": "Python 3",
   "language": "python",
   "name": "python3"
  },
  "language_info": {
   "codemirror_mode": {
    "name": "ipython",
    "version": 3
   },
   "file_extension": ".py",
   "mimetype": "text/x-python",
   "name": "python",
   "nbconvert_exporter": "python",
   "pygments_lexer": "ipython3",
   "version": "3.10.13"
  },
  "orig_nbformat": 4
 },
 "nbformat": 4,
 "nbformat_minor": 2
}
